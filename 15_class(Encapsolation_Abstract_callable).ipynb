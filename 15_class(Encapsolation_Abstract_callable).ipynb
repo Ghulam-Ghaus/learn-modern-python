{
 "cells": [
  {
   "cell_type": "markdown",
   "metadata": {},
   "source": [
    "## Callable, Abstract, Encapsulation, Duc typing"
   ]
  },
  {
   "cell_type": "code",
   "execution_count": 1,
   "metadata": {},
   "outputs": [
    {
     "name": "stdout",
     "output_type": "stream",
     "text": [
      "square_numbers() took 0.0074 ms\n"
     ]
    },
    {
     "data": {
      "text/plain": [
       "[0, 1, 4, 9, 16, 25, 36, 49, 64, 81]"
      ]
     },
     "execution_count": 1,
     "metadata": {},
     "output_type": "execute_result"
    }
   ],
   "source": [
    "from genai import ExecutionTimer\n",
    "\n",
    "@ExecutionTimer\n",
    "def square_numbers(numbers):\n",
    "    return [number ** 2 for number in numbers]\n",
    "\n",
    "\n",
    "square_numbers(list(range(10)))"
   ]
  },
  {
   "cell_type": "markdown",
   "metadata": {},
   "source": [
    "\n",
    "\n",
    "### How can we create python package for public users?\n",
    "\n",
    "https://www.turing.com/kb/how-to-create-pypi-packages\n"
   ]
  },
  {
   "cell_type": "code",
   "execution_count": 20,
   "metadata": {},
   "outputs": [
    {
     "name": "stdout",
     "output_type": "stream",
     "text": [
      "0800\n"
     ]
    }
   ],
   "source": [
    "from xml.etree.ElementTree import PI\n",
    "\n",
    "\n",
    "class Piaic():\n",
    "    def __init__(self) -> None:\n",
    "        #self.name                             public\n",
    "        self.piaic_helpline : str = \"0800\" #\n",
    "        #self._name                             protected\n",
    "        self._total_expense : int = 6000000 #\n",
    "        # __ = dundder\n",
    "        #self.__name                             private\n",
    "        self.__test_announcement : str = \"5 Nov 2023\"\n",
    "\n",
    "\n",
    "isfhan : Piaic = Piaic()\n",
    "\n",
    "print(isfhan.piaic_helpline)"
   ]
  },
  {
   "cell_type": "code",
   "execution_count": 33,
   "metadata": {},
   "outputs": [
    {
     "name": "stdout",
     "output_type": "stream",
     "text": [
      "0300-1234567\n"
     ]
    }
   ],
   "source": [
    "isfhan.piaic_helpline = '0300-1234567'\n",
    "print(isfhan.piaic_helpline)"
   ]
  },
  {
   "cell_type": "code",
   "execution_count": 35,
   "metadata": {},
   "outputs": [
    {
     "ename": "AttributeError",
     "evalue": "'Piaic' object has no attribute 'test_announcement'",
     "output_type": "error",
     "traceback": [
      "\u001b[1;31m---------------------------------------------------------------------------\u001b[0m",
      "\u001b[1;31mAttributeError\u001b[0m                            Traceback (most recent call last)",
      "\u001b[1;32mc:\\Users\\ghulam.ghaus\\Desktop\\office 2019\\p\\15_class(Encapsolation_Abstract_callable).ipynb Cell 6\u001b[0m line \u001b[0;36m1\n\u001b[1;32m----> <a href='vscode-notebook-cell:/c%3A/Users/ghulam.ghaus/Desktop/office%202019/p/15_class%28Encapsolation_Abstract_callable%29.ipynb#X13sZmlsZQ%3D%3D?line=0'>1</a>\u001b[0m isfhan\u001b[39m.\u001b[39;49mtest_announcement\n\u001b[0;32m      <a href='vscode-notebook-cell:/c%3A/Users/ghulam.ghaus/Desktop/office%202019/p/15_class%28Encapsolation_Abstract_callable%29.ipynb#X13sZmlsZQ%3D%3D?line=1'>2</a>\u001b[0m isfhan\u001b[39m.\u001b[39mtotal_expense\n",
      "\u001b[1;31mAttributeError\u001b[0m: 'Piaic' object has no attribute 'test_announcement'"
     ]
    }
   ],
   "source": [
    "isfhan.test_announcement\n",
    "isfhan.total_expense"
   ]
  },
  {
   "cell_type": "code",
   "execution_count": 36,
   "metadata": {},
   "outputs": [
    {
     "data": {
      "text/plain": [
       "'5 Nov 2023'"
      ]
     },
     "execution_count": 36,
     "metadata": {},
     "output_type": "execute_result"
    }
   ],
   "source": [
    "isfhan._Piaic__test_announcement"
   ]
  },
  {
   "cell_type": "code",
   "execution_count": 41,
   "metadata": {},
   "outputs": [],
   "source": [
    "class StudentLogin():\n",
    "    def __init__(self) -> None:\n",
    "        self.__username : str = \"Admin\" # private\n",
    "        self.__password : str = \"Admin\" # private\n",
    "\n",
    "\n",
    "    def __dbconnectivity(self, user:str, passwrod:str):\n",
    "        print(\"Successfully connected\")\n",
    "        if user == self.__username and passwrod==self.__password:\n",
    "            return \"Valid user\"\n",
    "        else:\n",
    "            return \"Invalid user\"\n",
    "        \n",
    "    def update_password(self,password:str):\n",
    "        self.__password = password\n",
    "\n",
    "    def student_login(self, user: str , pass1: str):\n",
    "        message :str = self.__dbconnectivity(user,pass1)\n",
    "        print(message)\n",
    "\n",
    "    def display_information(self):\n",
    "        print(f\"Hello Dear, {self.__username} and password {self.__password}\")\n",
    "\n",
    "\n",
    "qasim : StudentLogin = StudentLogin()"
   ]
  },
  {
   "cell_type": "code",
   "execution_count": 48,
   "metadata": {},
   "outputs": [
    {
     "name": "stdout",
     "output_type": "stream",
     "text": [
      "Hello Dear, Admin and password Admin\n"
     ]
    }
   ],
   "source": [
    "qasim.display_information()\n",
    "\n"
   ]
  },
  {
   "cell_type": "code",
   "execution_count": 52,
   "metadata": {},
   "outputs": [
    {
     "name": "stdout",
     "output_type": "stream",
     "text": [
      "Successfully connected\n",
      "Invalid user\n",
      "Successfully connected\n",
      "Invalid user\n",
      "Hello Dear, Admin and password qasim123\n"
     ]
    }
   ],
   "source": [
    "qasim.student_login(\"qasim\",'qasim123')\n",
    "\n",
    "\n",
    "qasim.student_login(\"Admin\",'Admin')\n",
    "\n",
    "qasim.update_password(\"qasim123\")\n",
    "\n",
    "qasim.display_information()"
   ]
  },
  {
   "cell_type": "markdown",
   "metadata": {},
   "source": [
    "## str"
   ]
  },
  {
   "cell_type": "code",
   "execution_count": 56,
   "metadata": {},
   "outputs": [
    {
     "name": "stdout",
     "output_type": "stream",
     "text": [
      "<__main__.Teacher object at 0x000002BC6111AA50>\n"
     ]
    }
   ],
   "source": [
    "\n",
    "\n",
    "class Teacher():\n",
    "    def __init__(self,name) -> None:\n",
    "        self.name : str = name\n",
    "\n",
    "sir_zia : Teacher = Teacher(\"sir zia\")\n",
    "\n",
    "print(sir_zia)\n",
    "\n"
   ]
  },
  {
   "cell_type": "markdown",
   "metadata": {},
   "source": [
    "## Abstract Class"
   ]
  },
  {
   "cell_type": "code",
   "execution_count": 57,
   "metadata": {},
   "outputs": [
    {
     "ename": "TypeError",
     "evalue": "Can't instantiate abstract class Animal without an implementation for abstract method '__init__'",
     "output_type": "error",
     "traceback": [
      "\u001b[1;31m---------------------------------------------------------------------------\u001b[0m",
      "\u001b[1;31mTypeError\u001b[0m                                 Traceback (most recent call last)",
      "\u001b[1;32mc:\\Users\\ghulam.ghaus\\Desktop\\office 2019\\p\\15_class(Encapsolation_Abstract_callable).ipynb Cell 14\u001b[0m line \u001b[0;36m1\n\u001b[0;32m      <a href='vscode-notebook-cell:/c%3A/Users/ghulam.ghaus/Desktop/office%202019/p/15_class%28Encapsolation_Abstract_callable%29.ipynb#X32sZmlsZQ%3D%3D?line=7'>8</a>\u001b[0m         \u001b[39msuper\u001b[39m()\u001b[39m.\u001b[39m\u001b[39m__init__\u001b[39m()\n\u001b[0;32m      <a href='vscode-notebook-cell:/c%3A/Users/ghulam.ghaus/Desktop/office%202019/p/15_class%28Encapsolation_Abstract_callable%29.ipynb#X32sZmlsZQ%3D%3D?line=8'>9</a>\u001b[0m         \u001b[39mself\u001b[39m\u001b[39m.\u001b[39mliving_thing : \u001b[39mbool\u001b[39m \u001b[39m=\u001b[39m \u001b[39mTrue\u001b[39;00m\n\u001b[1;32m---> <a href='vscode-notebook-cell:/c%3A/Users/ghulam.ghaus/Desktop/office%202019/p/15_class%28Encapsolation_Abstract_callable%29.ipynb#X32sZmlsZQ%3D%3D?line=13'>14</a>\u001b[0m isfahan : Animal \u001b[39m=\u001b[39m Animal() \n",
      "\u001b[1;31mTypeError\u001b[0m: Can't instantiate abstract class Animal without an implementation for abstract method '__init__'"
     ]
    }
   ],
   "source": [
    "\n",
    "\n",
    "from abc import ABC, abstractmethod\n",
    "\n",
    "# from traitlets import Bool\n",
    "\n",
    "class Animal(ABC):\n",
    "    @abstractmethod\n",
    "    def __init__(self) -> None:\n",
    "        super().__init__()\n",
    "        self.living_thing : bool = True\n",
    "        \n",
    "\n",
    "\n",
    "\n",
    "isfahan : Animal = Animal() \n",
    "\n"
   ]
  },
  {
   "cell_type": "code",
   "execution_count": 58,
   "metadata": {},
   "outputs": [
    {
     "ename": "TypeError",
     "evalue": "Can't instantiate abstract class Cat without an implementation for abstract method 'eat'",
     "output_type": "error",
     "traceback": [
      "\u001b[1;31m---------------------------------------------------------------------------\u001b[0m",
      "\u001b[1;31mTypeError\u001b[0m                                 Traceback (most recent call last)",
      "\u001b[1;32mc:\\Users\\ghulam.ghaus\\Desktop\\office 2019\\p\\15_class(Encapsolation_Abstract_callable).ipynb Cell 15\u001b[0m line \u001b[0;36m2\n\u001b[0;32m     <a href='vscode-notebook-cell:/c%3A/Users/ghulam.ghaus/Desktop/office%202019/p/15_class%28Encapsolation_Abstract_callable%29.ipynb#X33sZmlsZQ%3D%3D?line=15'>16</a>\u001b[0m     \u001b[39mdef\u001b[39;00m \u001b[39m__init__\u001b[39m(\u001b[39mself\u001b[39m) \u001b[39m-\u001b[39m\u001b[39m>\u001b[39m \u001b[39mNone\u001b[39;00m:\n\u001b[0;32m     <a href='vscode-notebook-cell:/c%3A/Users/ghulam.ghaus/Desktop/office%202019/p/15_class%28Encapsolation_Abstract_callable%29.ipynb#X33sZmlsZQ%3D%3D?line=16'>17</a>\u001b[0m         \u001b[39msuper\u001b[39m()\u001b[39m.\u001b[39m\u001b[39m__init__\u001b[39m()\n\u001b[1;32m---> <a href='vscode-notebook-cell:/c%3A/Users/ghulam.ghaus/Desktop/office%202019/p/15_class%28Encapsolation_Abstract_callable%29.ipynb#X33sZmlsZQ%3D%3D?line=22'>23</a>\u001b[0m isfahan : Cat \u001b[39m=\u001b[39m Cat()\n\u001b[0;32m     <a href='vscode-notebook-cell:/c%3A/Users/ghulam.ghaus/Desktop/office%202019/p/15_class%28Encapsolation_Abstract_callable%29.ipynb#X33sZmlsZQ%3D%3D?line=25'>26</a>\u001b[0m \u001b[39mprint\u001b[39m(isfahan\u001b[39m.\u001b[39mliving_thing)\n",
      "\u001b[1;31mTypeError\u001b[0m: Can't instantiate abstract class Cat without an implementation for abstract method 'eat'"
     ]
    }
   ],
   "source": [
    "from abc import ABC, abstractmethod\n",
    "\n",
    "\n",
    "class Animal(ABC):\n",
    "    @abstractmethod\n",
    "    def __init__(self) -> None:\n",
    "        super().__init__()\n",
    "        self.living_thing : bool = True\n",
    "\n",
    "    @abstractmethod\n",
    "    def eat(self,food:str):\n",
    "        ...\n",
    "        \n",
    "\n",
    "class Cat(Animal):\n",
    "    def __init__(self) -> None:\n",
    "        super().__init__()\n",
    "\n",
    "    \n",
    "\n",
    "    \n",
    "\n",
    "isfahan : Cat = Cat()\n",
    "\n",
    "\n",
    "print(isfahan.living_thing)"
   ]
  },
  {
   "cell_type": "code",
   "execution_count": 59,
   "metadata": {},
   "outputs": [
    {
     "name": "stdout",
     "output_type": "stream",
     "text": [
      "True\n"
     ]
    }
   ],
   "source": [
    "from abc import ABC, abstractmethod\n",
    "\n",
    "\n",
    "class Animal(ABC):\n",
    "    @abstractmethod\n",
    "    def __init__(self) -> None:\n",
    "        super().__init__()\n",
    "        self.living_thing : bool = True\n",
    "\n",
    "    @abstractmethod\n",
    "    def eat(self,food:str):\n",
    "        ...\n",
    "        \n",
    "\n",
    "class Cat(Animal):\n",
    "    def __init__(self) -> None:\n",
    "        super().__init__()# parent\n",
    "\n",
    "    def eat(self, food: str):\n",
    "        return f\"Cat is eating {food}\"\n",
    "\n",
    "    \n",
    "\n",
    "    \n",
    "\n",
    "isfahan : Cat = Cat()\n",
    "\n",
    "\n",
    "print(isfahan.living_thing)"
   ]
  },
  {
   "cell_type": "code",
   "execution_count": 62,
   "metadata": {},
   "outputs": [
    {
     "name": "stdout",
     "output_type": "stream",
     "text": [
      "Cat is eating food\n"
     ]
    }
   ],
   "source": [
    "from abc import ABC, abstractmethod\n",
    "\n",
    "\n",
    "class Animal(ABC):\n",
    "\n",
    "    @abstractmethod\n",
    "    def eat(self,food:str):\n",
    "        ...\n",
    "        \n",
    "\n",
    "class Cat(Animal):\n",
    "    def __init__(self) -> None:\n",
    "        super().__init__()# parent\n",
    "\n",
    "    def eat(self, food: str):\n",
    "        return f\"Cat is eating {food}\"\n",
    "\n",
    "    \n",
    "\n",
    "    \n",
    "\n",
    "isfahan : Cat = Cat()\n",
    "\n",
    "\n",
    "print(isfahan.eat('food'))"
   ]
  },
  {
   "cell_type": "markdown",
   "metadata": {},
   "source": [
    "## Duck Typing\n",
    "https://ioflood.com/blog/duck-typing/"
   ]
  },
  {
   "cell_type": "code",
   "execution_count": 63,
   "metadata": {},
   "outputs": [
    {
     "name": "stdout",
     "output_type": "stream",
     "text": [
      "Quack!\n",
      "I'm Quacking Like a Duck!\n"
     ]
    }
   ],
   "source": [
    "class Duck:\n",
    "    def quack(self)->str:\n",
    "        return 'Quack!'\n",
    "\n",
    "class Person:\n",
    "    def quack(self)->str:\n",
    "        return 'I\\'m Quacking Like a Duck!'\n",
    "\n",
    "def in_the_forest(malard):\n",
    "    print(malard.quack())\n",
    "\n",
    "donald : Duck = Duck()\n",
    "john : Person = Person()\n",
    "in_the_forest(donald)\n",
    "in_the_forest(john)\n",
    "\n",
    "# Output:\n",
    "# 'Quack!'\n",
    "# 'I'm Quacking Like a Duck!'"
   ]
  },
  {
   "cell_type": "code",
   "execution_count": 64,
   "metadata": {},
   "outputs": [
    {
     "name": "stdout",
     "output_type": "stream",
     "text": [
      "Quack!\n",
      "I'm Quacking Like a Duck!\n"
     ]
    }
   ],
   "source": [
    "class Duck():\n",
    "    def quack(self)->str:\n",
    "        return 'Quack!'\n",
    "\n",
    "class Person():\n",
    "    def quack(self)->str:\n",
    "        return 'I\\'m Quacking Like a Duck!'\n",
    "\n",
    "def in_the_forest(malard):\n",
    "    print(malard.quack())\n",
    "\n",
    "donald : Duck = Duck()\n",
    "john : Person = Person()\n",
    "in_the_forest(donald)\n",
    "in_the_forest(john)\n",
    "\n",
    "# Output:\n",
    "# 'Quack!'\n",
    "# 'I'm Quacking Like a Duck!'"
   ]
  },
  {
   "cell_type": "code",
   "execution_count": 65,
   "metadata": {},
   "outputs": [
    {
     "data": {
      "text/plain": [
       "['__class__',\n",
       " '__delattr__',\n",
       " '__dict__',\n",
       " '__dir__',\n",
       " '__doc__',\n",
       " '__eq__',\n",
       " '__format__',\n",
       " '__ge__',\n",
       " '__getattribute__',\n",
       " '__getstate__',\n",
       " '__gt__',\n",
       " '__hash__',\n",
       " '__init__',\n",
       " '__init_subclass__',\n",
       " '__le__',\n",
       " '__lt__',\n",
       " '__module__',\n",
       " '__ne__',\n",
       " '__new__',\n",
       " '__reduce__',\n",
       " '__reduce_ex__',\n",
       " '__repr__',\n",
       " '__setattr__',\n",
       " '__sizeof__',\n",
       " '__str__',\n",
       " '__subclasshook__',\n",
       " '__weakref__']"
      ]
     },
     "execution_count": 65,
     "metadata": {},
     "output_type": "execute_result"
    }
   ],
   "source": [
    "class XYZ:\n",
    "    pass\n",
    "\n",
    "dir(XYZ)"
   ]
  }
 ],
 "metadata": {
  "kernelspec": {
   "display_name": "python12",
   "language": "python",
   "name": "python3"
  },
  "language_info": {
   "codemirror_mode": {
    "name": "ipython",
    "version": 3
   },
   "file_extension": ".py",
   "mimetype": "text/x-python",
   "name": "python",
   "nbconvert_exporter": "python",
   "pygments_lexer": "ipython3",
   "version": "3.12.0"
  }
 },
 "nbformat": 4,
 "nbformat_minor": 2
}
